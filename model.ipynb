{
 "cells": [
  {
   "cell_type": "code",
   "execution_count": null,
   "id": "17de7e6d",
   "metadata": {},
   "outputs": [],
   "source": [
    "import torch\n",
    "from torch import device\n",
    "from torch import nn"
   ]
  },
  {
   "cell_type": "code",
   "execution_count": null,
   "id": "744be972",
   "metadata": {},
   "outputs": [],
   "source": [
    "LR:float = 0.001\n",
    "N_EPOCHS:int = 10\n",
    "N_TOTAL_STEPS:int = 1000"
   ]
  },
  {
   "cell_type": "code",
   "execution_count": null,
   "id": "1fd5a168",
   "metadata": {},
   "outputs": [],
   "source": [
    "device = device(\"cuda\" if torch.cuda.is_available() else \"cpu\")"
   ]
  },
  {
   "cell_type": "code",
   "execution_count": null,
   "id": "be261d68",
   "metadata": {},
   "outputs": [],
   "source": [
    "class CNNModel(nn.Module):\n",
    "    def __init__(self, num_classes=2):\n",
    "        super(CNNModel, self).__init__() \n",
    "        self.conv1 = nn.Conv2d(1,8,kernel_size=3, stride=1)  # Input size is 1280*1280 -> Output size is 1278*1278\n",
    "        self.conv2 = nn.Conv2d(8,16,kernel_size=3, stride=1)\n",
    "        self.pool = nn.MaxPool2d(kernel_size=2, stride=2)\n",
    "        self.fc1 = nn.Linear(16 * 6 * 6, 120)\n",
    "        self.fc2 = nn.Linear(120, 84)\n",
    "        self.fc3 = nn.Linear(84, num_classes)\n",
    "        \n",
    "\n",
    "\n",
    "\n",
    "    def forward(self, x):\n",
    "        pass\n",
    "   "
   ]
  },
  {
   "cell_type": "code",
   "execution_count": null,
   "id": "7b370810",
   "metadata": {},
   "outputs": [],
   "source": [
    "model = CNNModel().to(device)\n",
    "criterion = nn.BCEWithLogitsLoss()\n",
    "optimizer = torch.optim.Adam(model.parameters(), lr=LR)"
   ]
  }
 ],
 "metadata": {
  "kernelspec": {
   "display_name": "CNN-Model",
   "language": "python",
   "name": "python3"
  },
  "language_info": {
   "name": "python",
   "version": "3.13.1"
  }
 },
 "nbformat": 4,
 "nbformat_minor": 5
}
