{
 "cells": [
  {
   "cell_type": "code",
   "execution_count": null,
   "id": "17de7e6d",
   "metadata": {},
   "outputs": [],
   "source": [
    "import torch\n",
    "from torch import device\n",
    "from torch import nn"
   ]
  },
  {
   "cell_type": "code",
   "execution_count": null,
   "id": "744be972",
   "metadata": {},
   "outputs": [],
   "source": [
    "LR:float = 0.001\n",
    "N_EPOCHS:int = 10\n",
    "N_TOTAL_STEPS:int = 1000"
   ]
  },
  {
   "cell_type": "code",
   "execution_count": null,
   "id": "1fd5a168",
   "metadata": {},
   "outputs": [],
   "source": [
    "device = device(\"cuda\" if torch.cuda.is_available() else \"cpu\")"
   ]
  },
  {
   "cell_type": "code",
   "execution_count": null,
   "id": "be261d68",
   "metadata": {},
   "outputs": [],
   "source": [
    "class CNNModel(nn.Module):\n",
    "    def __init__(self, num_classes=2):\n",
    "        super(CNNModel, self).__init__() \n",
    "        self.conv1 = nn.Conv2d(1,8,kernel_size=3, stride=1)  \n",
    "        self.conv2 = nn.Conv2d(8,16,kernel_size=3, stride=1)\n",
    "        self.conv3 = nn.Conv2d(16,32,kernel_size=3, stride=1)\n",
    "        self.conv4 = nn.Conv2d(32,64,kernel_size=3, stride=1)\n",
    "        self.pool = nn.MaxPool2d(kernel_size=2, stride=2, padding=0)\n",
    "        \n",
    "\n",
    "\n",
    "\n",
    "    def forward(self, x):\n",
    "        x = self.pool(nn.functional.relu(self.conv1(x))) # Input size is 1280*1280 ->  1278*1278 -> 639*639\n",
    "        x = self.pool(nn.functional.relu(self.conv2(x))) # Input size is 639*639 -> 637*637 -> 318*318\n",
    "        x = self.pool(nn.functional.relu(self.conv3(x))) # Input size is 318*318 -> 316*316 -> 158*158\n",
    "        x = self.pool(nn.functional.relu(self.conv4(x))) # Input size is 158*158 -> 156*156 -> 78*78\n",
    "   "
   ]
  },
  {
   "cell_type": "code",
   "execution_count": null,
   "id": "7b370810",
   "metadata": {},
   "outputs": [],
   "source": [
    "model = CNNModel().to(device)\n",
    "criterion = nn.BCEWithLogitsLoss()\n",
    "optimizer = torch.optim.Adam(model.parameters(), lr=LR)"
   ]
  }
 ],
 "metadata": {
  "kernelspec": {
   "display_name": "CNN-Model",
   "language": "python",
   "name": "python3"
  },
  "language_info": {
   "name": "python",
   "version": "3.13.1"
  }
 },
 "nbformat": 4,
 "nbformat_minor": 5
}
